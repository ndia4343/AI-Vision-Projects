Welcome to AI-Vision-Projects! 🌱✨  
This repository is a collection of AI-powered computer vision projects using deep learning.

🔍 First project: **Plant Disease Detection**  
It uses CNNs to detect and classify plant diseases from leaf images.
**Highlights:**
- **Dataset**: PlantVillage (labeled healthy & infected leaves)
- **Model**: CNN-based image classifier
- **Application**: Helps farmers with early plant disease detection for better crop managemen

More AI-Vision projects coming soon in fields like healthcare, security, and smart surveillance.

Stay tuned! 🚀


